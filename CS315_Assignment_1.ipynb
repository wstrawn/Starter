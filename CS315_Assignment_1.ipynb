{
  "nbformat": 4,
  "nbformat_minor": 0,
  "metadata": {
    "colab": {
      "name": "CS315 Assignment 1.ipynb",
      "provenance": [],
      "collapsed_sections": [],
      "include_colab_link": true
    },
    "kernelspec": {
      "name": "python3",
      "display_name": "Python 3"
    }
  },
  "cells": [
    {
      "cell_type": "markdown",
      "metadata": {
        "id": "view-in-github",
        "colab_type": "text"
      },
      "source": [
        "<a href=\"https://colab.research.google.com/github/wstrawn/Starter/blob/master/CS315_Assignment_1.ipynb\" target=\"_parent\"><img src=\"https://colab.research.google.com/assets/colab-badge.svg\" alt=\"Open In Colab\"/></a>"
      ]
    },
    {
      "cell_type": "code",
      "metadata": {
        "id": "PkWVshQpJqYH",
        "colab_type": "code",
        "colab": {}
      },
      "source": [
        "#1\n",
        "#Basic math and input\n",
        "x = (int)(input(\"Enter a number: \"))\n",
        "y = (int)(input(\"Enter a second number: \"))\n",
        "print (\"The sum is: \", x+y)\n",
        "print (\"The product is: \", x*y)\n",
        "print (\"The difference is: \", x-y)\n",
        "print (\"The quotient is: \", x/y)"
      ],
      "execution_count": 0,
      "outputs": []
    },
    {
      "cell_type": "code",
      "metadata": {
        "colab_type": "code",
        "id": "xRl20O9AR8Nv",
        "colab": {}
      },
      "source": [
        "#2\n",
        "#Importing math api to use pi\n",
        "import math\n",
        "r = (int)(input(\"Enter the radius: \"))\n",
        "print (\"The diameter is: \", 2*r)\n",
        "print (\"The circumference is: \", 2*math.pi*r )\n",
        "print (\"The area is: \", math.pi*r**2)\n"
      ],
      "execution_count": 0,
      "outputs": []
    },
    {
      "cell_type": "code",
      "metadata": {
        "id": "s8y9-n-kUP1R",
        "colab_type": "code",
        "colab": {}
      },
      "source": [
        "#3\n",
        "#I assigned variables was going  to use a different method but this seemed to be\n",
        "#much simpler\n",
        "n = \" \"\n",
        "m = \"*\"\n",
        "\n",
        "print(\"*********\", n,\"   ***   \", n, \"    *    \", n,\"    *    \")\n",
        "print(\"*       *\", n,\" *     * \", n, \"   ***   \", n,\"   * *   \")\n",
        "print(\"*       *\", n,\"*       *\", n, \"  *****  \", n,\"  *   *  \")\n",
        "print(\"*       *\", n,\"*       *\", n, \"    *    \", n,\" *     * \")\n",
        "print(\"*       *\", n,\"*       *\", n, \"    *    \", n,\"*       *\")\n",
        "print(\"*       *\", n,\"*       *\", n, \"    *    \", n,\" *     * \")\n",
        "print(\"*       *\", n,\"*       *\", n, \"    *    \", n,\"  *   *  \")\n",
        "print(\"*       *\", n,\"*       *\", n, \"    *    \", n,\"   * *   \")\n",
        "print(\"*********\", n,\"    ***  \", n, \"      *  \", n,\"      *  \")\n",
        "\n",
        "\n"
      ],
      "execution_count": 0,
      "outputs": []
    },
    {
      "cell_type": "code",
      "metadata": {
        "id": "BQAca_xQjFw6",
        "colab_type": "code",
        "colab": {}
      },
      "source": [
        "#4\n",
        "#Basic math using modulous operator\n",
        "x = (int)(input(\"Enter Integer #1: \"))\n",
        "y = (int)(input(\"Enter Integer #2: \"))\n",
        "answer = y%x\n",
        "if answer != 0:\n",
        "  print(x,\"is not a multiple of\", y)\n",
        "else:\n",
        "  print(x,\"is a multiple\", y)\n"
      ],
      "execution_count": 0,
      "outputs": []
    },
    {
      "cell_type": "code",
      "metadata": {
        "id": "QVmwA0m_m4ar",
        "colab_type": "code",
        "colab": {}
      },
      "source": [
        "\n",
        "#5\n",
        "#Assigning initial values to start loop and not double up on totals\n",
        "total_miles = 0\n",
        "total_fuel = 0\n",
        "fuel_used = 0\n",
        "while fuel_used != -1:\n",
        "  fuel_used = float(input(\"Enter fuel used in gallons (-1 to end): \"))\n",
        "  if fuel_used == -1:\n",
        "    if total_fuel == 0 or total_miles == 0:\n",
        "      print(\"Data missing run program again cannot divide by 0\")\n",
        "      break;\n",
        "    print(\"The overall average miles/gallon was\",total_miles/total_fuel)\n",
        "    break;\n",
        "  miles_driven = float(input(\"Enter miles driven: \"))\n",
        "  MPG = miles_driven/fuel_used\n",
        "  print(\"The miles / gallon for this tank was\", MPG)\n",
        "  total_miles = total_miles + miles_driven \n",
        "  total_fuel = total_fuel + fuel_used\n",
        " \n",
        "\n",
        "  \n",
        "\n"
      ],
      "execution_count": 0,
      "outputs": []
    },
    {
      "cell_type": "code",
      "metadata": {
        "id": "yAooE65vMW3r",
        "colab_type": "code",
        "colab": {}
      },
      "source": [
        "#6\n",
        "# define my function to check for palindromes \n",
        "def isPalin(str):   \n",
        "    # Run loop from 0 to len/2 and use // to drop decimal \n",
        "    for i in range(0, len(str)//2):  \n",
        "        if str[i] != str[len(str)-i-1]: \n",
        "            return False\n",
        "    return True\n",
        "  \n",
        "# main function \n",
        "user_input = input(\"Enter number or phrase: \")\n",
        "result = isPalin(user_input) \n",
        "  \n",
        "if (result): \n",
        "    print(\"Yes\") \n",
        "else: \n",
        "    print(\"No\") "
      ],
      "execution_count": 0,
      "outputs": []
    },
    {
      "cell_type": "code",
      "metadata": {
        "id": "inEpsWpl68sO",
        "colab_type": "code",
        "colab": {}
      },
      "source": [
        "#7 \n",
        "number = input(\"Enter the number to be converted: \")\n",
        "print(int(number,2)) \n",
        "    "
      ],
      "execution_count": 0,
      "outputs": []
    },
    {
      "cell_type": "code",
      "metadata": {
        "id": "jgR0jOlpLkog",
        "colab_type": "code",
        "colab": {}
      },
      "source": [
        "#8a)\n",
        "import math\n",
        "number = (int)(input(\"Enter a nonnegative integer to get factorial: \"))\n",
        "print(math.factorial(number))\n",
        "\n",
        "\n"
      ],
      "execution_count": 0,
      "outputs": []
    },
    {
      "cell_type": "code",
      "metadata": {
        "id": "940YUgrKOmBZ",
        "colab_type": "code",
        "colab": {}
      },
      "source": [
        "#8b)\n",
        "import math\n",
        "e = 1\n",
        "for i in range(1, 10):\n",
        "  e = e + 1/(math.factorial(i))\n",
        "print(e)"
      ],
      "execution_count": 0,
      "outputs": []
    },
    {
      "cell_type": "code",
      "metadata": {
        "id": "WII039VYQfnD",
        "colab_type": "code",
        "colab": {}
      },
      "source": [
        "#8c)\n",
        "import math\n",
        "x = (int)(input(\"Enter value for x: \"))\n",
        "e = 1\n",
        "for i in range(1, 10):\n",
        "  e = e + pow(x,i)/(math.factorial(i))\n",
        "print(e)"
      ],
      "execution_count": 0,
      "outputs": []
    },
    {
      "cell_type": "code",
      "metadata": {
        "id": "u0nXPl1MSXQj",
        "colab_type": "code",
        "colab": {}
      },
      "source": [
        "#9A) nested loops used for rows and columns\n",
        "def triangle(n):    \n",
        "    for i in range(0, n):        \n",
        "        for j in range(0, i+1):          \n",
        "            print(\"* \",end=\"\")         \n",
        "        print(\"\\r\") \n",
        "#Driver  \n",
        "triangle(10)\n"
      ],
      "execution_count": 0,
      "outputs": []
    },
    {
      "cell_type": "code",
      "metadata": {
        "id": "ZlaRkwgHr9XS",
        "colab_type": "code",
        "colab": {}
      },
      "source": [
        "#9B) Same theory nested loops except spacing had to be altered\n",
        "def rev_tri(n): \n",
        "    k = 2*n - 2\n",
        "    for i in range(0, n):     \n",
        "        for j in range(0, k): \n",
        "            print(end=\" \")      \n",
        "        k = k - 2      \n",
        "        for j in range(0, i+1):\n",
        "            print(\"* \", end=\"\")       \n",
        "        print(\"\\r\") \n",
        "#Driver \n",
        "rev_tri(10) "
      ],
      "execution_count": 0,
      "outputs": []
    },
    {
      "cell_type": "code",
      "metadata": {
        "id": "xEmS6jSgvXE7",
        "colab_type": "code",
        "colab": {}
      },
      "source": [
        "#9C) Same as others just alter the spacing and where the blanks go\n",
        "def flip_tri(n): \n",
        "    k = n - 1\n",
        "    for i in range(0, n):     \n",
        "        for j in range(0, k): \n",
        "            print(end=\"* \")      \n",
        "        k = k - 1      \n",
        "        for h in range(0, i+1):\n",
        "            print(\"  \", end=\"\")       \n",
        "        print(\"\\r\") \n",
        "#Driver  \n",
        "flip_tri(10) "
      ],
      "execution_count": 0,
      "outputs": []
    },
    {
      "cell_type": "code",
      "metadata": {
        "id": "4BWphezBKWqH",
        "colab_type": "code",
        "colab": {}
      },
      "source": [
        "#9D) Same\n",
        "def revflip_tri(n): \n",
        "    k = n - 1\n",
        "    for i in range(0, n):     \n",
        "        for j in range(0, k): \n",
        "            print(end=\"* \")      \n",
        "        k = k - 1\n",
        "        print(\"\\r\")\n",
        "        for h in range(0, i+1):\n",
        "            print(\"  \", end=\"\")       \n",
        "        \n",
        "#Driver        \n",
        "revflip_tri(10) "
      ],
      "execution_count": 0,
      "outputs": []
    },
    {
      "cell_type": "code",
      "metadata": {
        "id": "mCxq4LSWZkwZ",
        "colab_type": "code",
        "colab": {}
      },
      "source": [
        "#10 simple triple loop as requested could be fancier but not sure the question asked for more\n",
        "import math\n",
        "for i in range(1, 20):\n",
        "  for j in range(1, 20):\n",
        "    for h in range(1,20):\n",
        "      if math.hypot(i, j) == h:\n",
        "        print(\"Side1 = \", i, \"Side2 = \", j, \"Hypotenuse \", h)        \n",
        "        \n",
        "\n",
        "  \n",
        "              "
      ],
      "execution_count": 0,
      "outputs": []
    }
  ]
}